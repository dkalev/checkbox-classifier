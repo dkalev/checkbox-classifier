{
 "cells": [
  {
   "cell_type": "code",
   "execution_count": null,
   "metadata": {},
   "outputs": [],
   "source": [
    "import os\n",
    "import numpy as np\n",
    "import matplotlib.pyplot as plt\n",
    "from PIL import Image\n",
    "from pathlib import Path"
   ]
  },
  {
   "cell_type": "code",
   "execution_count": null,
   "metadata": {},
   "outputs": [],
   "source": [
    "DATA_DIR = Path(\"data\")"
   ]
  },
  {
   "cell_type": "code",
   "execution_count": null,
   "metadata": {},
   "outputs": [],
   "source": [
    "categories = [cat for cat in os.listdir(DATA_DIR) if (DATA_DIR/cat).is_dir()]\n",
    "n_total = 0\n",
    "for cat in categories:\n",
    "    n_photos = len(os.listdir(DATA_DIR/cat))\n",
    "    n_total += n_photos\n",
    "    \n",
    "for cat in categories:\n",
    "    n_photos = len(os.listdir(DATA_DIR/cat))\n",
    "    print(f\"{cat}: {n_photos}, perc: {1.*n_photos/n_total:.3f}\")"
   ]
  },
  {
   "cell_type": "markdown",
   "metadata": {},
   "source": [
    "### Observations\n",
    "* Inbalanced dataset\n",
    "* Might be able to get good results with grayscale images, while also reducing train and inference time"
   ]
  },
  {
   "cell_type": "code",
   "execution_count": null,
   "metadata": {},
   "outputs": [],
   "source": [
    "# check if alpha channel is used\n",
    "for cat in categories:\n",
    "    for img_path in os.listdir(DATA_DIR/cat):\n",
    "        assert np.array(Image.open(DATA_DIR/cat/img_path))[:,:,-1].mean() == 255"
   ]
  },
  {
   "cell_type": "code",
   "execution_count": null,
   "metadata": {},
   "outputs": [],
   "source": [
    "n_cols = 5\n",
    "sample_size = 20\n",
    "figsize = (15,10)\n",
    "\n",
    "def plot_sample_photos(cat: str, sample_size: int, n_cols: int, figsize: tuple[int, int]) -> None:\n",
    "    _, axes = plt.subplots(sample_size//n_cols, n_cols, figsize=figsize)\n",
    "    cat_dir = DATA_DIR/cat\n",
    "    cat_images = np.random.choice(os.listdir(cat_dir), size=sample_size)\n",
    "    for idx, image_path in enumerate(cat_images):\n",
    "        r, c = divmod(idx, n_cols)\n",
    "        image = np.array(Image.open(cat_dir/image_path).convert('RGB'))\n",
    "\n",
    "        axes[r][c].set_xticks([])\n",
    "        axes[r][c].set_yticks([])\n",
    "        axes[r][c].imshow(image)"
   ]
  },
  {
   "cell_type": "code",
   "execution_count": null,
   "metadata": {},
   "outputs": [],
   "source": [
    "plot_sample_photos('checked', sample_size, n_cols, figsize)"
   ]
  },
  {
   "cell_type": "markdown",
   "metadata": {},
   "source": [
    "### Observations\n",
    "* many different styles, incl colors, shape and text\n",
    "* toggles are also included as checkboxes (can have a slightly different UI function)\n",
    "    * data augmentations such as horizontal flips should not be used\n",
    "* some of them have no actual \"box\", only a tick mark or a cross for example"
   ]
  },
  {
   "cell_type": "code",
   "execution_count": null,
   "metadata": {},
   "outputs": [],
   "source": [
    "plot_sample_photos('unchecked', sample_size, n_cols, figsize)"
   ]
  },
  {
   "cell_type": "markdown",
   "metadata": {},
   "source": [
    "### Observations\n",
    "* usually an empty box or circle\n",
    "* some misclassified samples\n",
    "* some samples contain a part of a checked check box\n",
    "* for toggles relative position of moveable part matters most (left unchecked, right checked)"
   ]
  },
  {
   "cell_type": "code",
   "execution_count": null,
   "metadata": {},
   "outputs": [],
   "source": [
    "plot_sample_photos('other', sample_size, n_cols, figsize)"
   ]
  },
  {
   "cell_type": "markdown",
   "metadata": {},
   "source": [
    "### Observations\n",
    "* sliders can be confused as toggles\n",
    "* positive or negative icons can be confused as ticked check boxes"
   ]
  },
  {
   "cell_type": "markdown",
   "metadata": {},
   "source": []
  }
 ],
 "metadata": {
  "interpreter": {
   "hash": "0129860d8a976b52dcf5d9da2316cf0b056144f1ee127a59e612088221689e34"
  },
  "kernelspec": {
   "display_name": "Python 3.9.7 ('env': venv)",
   "language": "python",
   "name": "python3"
  },
  "language_info": {
   "codemirror_mode": {
    "name": "ipython",
    "version": 3
   },
   "file_extension": ".py",
   "mimetype": "text/x-python",
   "name": "python",
   "nbconvert_exporter": "python",
   "pygments_lexer": "ipython3",
   "version": "3.9.7"
  },
  "orig_nbformat": 4
 },
 "nbformat": 4,
 "nbformat_minor": 2
}
